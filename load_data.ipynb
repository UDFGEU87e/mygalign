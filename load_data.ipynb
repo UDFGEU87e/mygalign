{
 "cells": [
  {
   "cell_type": "code",
   "execution_count": 1,
   "metadata": {},
   "outputs": [
    {
     "name": "stdout",
     "output_type": "stream",
     "text": [
      "data/yale1_yale2/yale1/graphsage/\n",
      "Dataset info:\n",
      "- Nodes:  8578\n",
      "- Edges:  283815\n"
     ]
    }
   ],
   "source": [
    "from input.dataset import Dataset, SynDataset\n",
    "source_dataset = Dataset('data/yale1_yale2/yale1/graphsage/')"
   ]
  },
  {
   "cell_type": "code",
   "execution_count": 13,
   "metadata": {},
   "outputs": [],
   "source": [
    "from algorithms.ANAGCN.utils import *\n",
    "source_A_hat, _ = Laplacian_graph(source_dataset.get_adjacency_matrix())"
   ]
  },
  {
   "cell_type": "code",
   "execution_count": 30,
   "metadata": {},
   "outputs": [
    {
     "data": {
      "text/plain": [
       "tensor(0.0179)"
      ]
     },
     "execution_count": 30,
     "metadata": {},
     "output_type": "execute_result"
    }
   ],
   "source": [
    "source_A_hat[1530][2705]"
   ]
  },
  {
   "cell_type": "code",
   "execution_count": 15,
   "metadata": {},
   "outputs": [
    {
     "name": "stdout",
     "output_type": "stream",
     "text": [
      "data/yale1_yale2/yale2/graphsage/\n",
      "Dataset info:\n",
      "- Nodes:  8578\n",
      "- Edges:  283815\n"
     ]
    }
   ],
   "source": [
    "from input.dataset import Dataset, SynDataset\n",
    "target_dataset = Dataset('data/yale1_yale2/yale2/graphsage/')\n",
    "from algorithms.ANAGCN.utils import *\n",
    "target_A_hat, _ = Laplacian_graph(target_dataset.get_adjacency_matrix())"
   ]
  },
  {
   "cell_type": "code",
   "execution_count": 29,
   "metadata": {},
   "outputs": [
    {
     "data": {
      "text/plain": [
       "tensor(0.0176)"
      ]
     },
     "execution_count": 29,
     "metadata": {},
     "output_type": "execute_result"
    }
   ],
   "source": [
    "target_A_hat[0][406]"
   ]
  }
 ],
 "metadata": {
  "kernelspec": {
   "display_name": "Python 3",
   "language": "python",
   "name": "python3"
  },
  "language_info": {
   "codemirror_mode": {
    "name": "ipython",
    "version": 3
   },
   "file_extension": ".py",
   "mimetype": "text/x-python",
   "name": "python",
   "nbconvert_exporter": "python",
   "pygments_lexer": "ipython3",
   "version": "3.6.3"
  }
 },
 "nbformat": 4,
 "nbformat_minor": 4
}

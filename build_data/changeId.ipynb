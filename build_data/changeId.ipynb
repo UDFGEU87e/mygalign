{
 "cells": [
  {
   "cell_type": "code",
   "execution_count": 1,
   "metadata": {},
   "outputs": [],
   "source": [
    "import json\n",
    "import numpy as np\n",
    "import pickle as pkl\n",
    "with open('../data/yale1_yale2/yale1/graphsage/yale_erm_30_1_adj.pkl', 'rb') as f:\n",
    "    G_1_sp = pkl.load(f)"
   ]
  },
  {
   "cell_type": "code",
   "execution_count": 2,
   "metadata": {},
   "outputs": [],
   "source": [
    "import networkx  as nx\n",
    "G_1 = nx.convert_matrix.from_scipy_sparse_matrix(G_1_sp)"
   ]
  },
  {
   "cell_type": "code",
   "execution_count": 3,
   "metadata": {},
   "outputs": [],
   "source": [
    "edges_list = G_1.edges()"
   ]
  },
  {
   "cell_type": "code",
   "execution_count": 4,
   "metadata": {},
   "outputs": [
    {
     "data": {
      "text/plain": [
       "13"
      ]
     },
     "execution_count": 4,
     "metadata": {},
     "output_type": "execute_result"
    }
   ],
   "source": [
    "len(G_1[0])"
   ]
  },
  {
   "cell_type": "code",
   "execution_count": 5,
   "metadata": {},
   "outputs": [],
   "source": [
    "idx1 = np.arange(len(G_1.nodes()))\n",
    "np.random.shuffle(idx1)\n",
    "\n",
    "change_id={}\n",
    "for i in np.arange(len(idx1)):\n",
    "    change_id[i] = idx1[i]\n",
    "    \n",
    "edges_list_new = []\n",
    "for i in G_1.edges():\n",
    "    edges_list_new.append((int(change_id[i[0]]),int(change_id[i[1]])))\n",
    "\n",
    "G_1_new = nx.Graph(edges_list_new)\n",
    "\n",
    "from networkx.readwrite import json_graph \n",
    "data_1_new = json_graph.node_link_data(G_1_new)\n",
    "\n",
    "with open('../data/yale1_yale2/yale1/graphsage/G.json', 'w') as outfile:\n",
    "    json.dump(data_1_new, outfile)"
   ]
  },
  {
   "cell_type": "code",
   "execution_count": null,
   "metadata": {},
   "outputs": [],
   "source": []
  },
  {
   "cell_type": "code",
   "execution_count": 6,
   "metadata": {},
   "outputs": [],
   "source": [
    "with open('../data/yale1_yale2/yale1/graphsage/G.json', 'r') as outfile:\n",
    "    G_data = json.load(outfile)\n",
    "G = json_graph.node_link_graph(G_data)"
   ]
  },
  {
   "cell_type": "code",
   "execution_count": 7,
   "metadata": {},
   "outputs": [
    {
     "data": {
      "text/plain": [
       "13"
      ]
     },
     "execution_count": 7,
     "metadata": {},
     "output_type": "execute_result"
    }
   ],
   "source": [
    "len(G[change_id[0]])"
   ]
  }
 ],
 "metadata": {
  "kernelspec": {
   "display_name": "Python 3",
   "language": "python",
   "name": "python3"
  },
  "language_info": {
   "codemirror_mode": {
    "name": "ipython",
    "version": 3
   },
   "file_extension": ".py",
   "mimetype": "text/x-python",
   "name": "python",
   "nbconvert_exporter": "python",
   "pygments_lexer": "ipython3",
   "version": "3.6.3"
  }
 },
 "nbformat": 4,
 "nbformat_minor": 4
}
